{
  "nbformat": 4,
  "nbformat_minor": 0,
  "metadata": {
    "colab": {
      "provenance": [],
      "authorship_tag": "ABX9TyPhu817IZhP7rUAd9uzinBK",
      "include_colab_link": true
    },
    "kernelspec": {
      "name": "python3",
      "display_name": "Python 3"
    },
    "language_info": {
      "name": "python"
    }
  },
  "cells": [
    {
      "cell_type": "markdown",
      "metadata": {
        "id": "view-in-github",
        "colab_type": "text"
      },
      "source": [
        "<a href=\"https://colab.research.google.com/github/jaishrm07/deep-learning-projects/blob/main/bear_detector.ipynb\" target=\"_parent\"><img src=\"https://colab.research.google.com/assets/colab-badge.svg\" alt=\"Open In Colab\"/></a>"
      ]
    },
    {
      "cell_type": "code",
      "execution_count": 53,
      "metadata": {
        "id": "sL8mZt7x1hXi"
      },
      "outputs": [],
      "source": [
        "import os\n",
        "from fastdownload import download_url\n",
        "from PIL import Image\n",
        "key = os.environ.get('AZURE_SEARCH_KEY', 'b9a6a170e46e4f9387775a5698042bd6')"
      ]
    },
    {
      "cell_type": "code",
      "source": [
        "import fastbook\n",
        "fastbook.setup_book()\n",
        "\n",
        "from fastbook import search_images_bing"
      ],
      "metadata": {
        "colab": {
          "base_uri": "https://localhost:8080/"
        },
        "id": "kIXJbg_T2Ood",
        "outputId": "503ad591-89cb-435a-d076-6cfd92a6ad93"
      },
      "execution_count": 5,
      "outputs": [
        {
          "output_type": "stream",
          "name": "stdout",
          "text": [
            "Mounted at /content/gdrive\n"
          ]
        }
      ]
    },
    {
      "cell_type": "code",
      "source": [
        "results = search_images_bing(key, 'grizzly bear')\n",
        "ims = results.attrgot('contentUrl')\n",
        "print(ims)"
      ],
      "metadata": {
        "colab": {
          "base_uri": "https://localhost:8080/"
        },
        "id": "NUVFKyMS2jsm",
        "outputId": "14bd5d87-2dc2-4b49-d722-43a9bc993487"
      },
      "execution_count": 47,
      "outputs": [
        {
          "output_type": "stream",
          "name": "stdout",
          "text": [
            "['http://2.bp.blogspot.com/-NjMTuklENdE/UHzVv_8dIxI/AAAAAAAAA-U/tNBsQDn8kFI/s1600/Grizzly+Bear+Pic.jpg', 'https://d3d0lqu00lnqvz.cloudfront.net/media/media/897b2e5d-6d4c-40fa-bbe8-6829455747e2.jpg', 'http://3.bp.blogspot.com/-S1scRCkI3vY/UHzV2kucsPI/AAAAAAAAA-k/YQ5UzHEm9Ss/s1600/Grizzly+Bear+Wildlife.jpg', 'https://cdn.britannica.com/18/161718-050-2DB34DD6/Grizzly-bear.jpg', 'https://cdn.britannica.com/19/186719-050-887A6F2C/Grizzly-bear-Rocky-Mountains-Wyoming.jpg', 'https://www.goodfreephotos.com/albums/animals/mammals/grizzly-bear-in-the-wild.jpg', 'https://images.pexels.com/photos/162340/bear-bavarian-bear-wild-brown-bear-162340.jpeg?cs=srgb&dl=animal-bear-cute-162340.jpg&fm=jpg', 'https://upload.wikimedia.org/wikipedia/commons/thumb/a/a9/GrizzlyBearJeanBeaufort.jpg/1200px-GrizzlyBearJeanBeaufort.jpg', 'https://upload.wikimedia.org/wikipedia/commons/thumb/e/e3/Grizzly_Bear_(Ursus_arctos_ssp.).jpg/1280px-Grizzly_Bear_(Ursus_arctos_ssp.).jpg', 'https://canadiangeographic.ca/wp-content/uploads/2022/08/36211246-Grizzly_Bear_Siblings-scaled.jpg', 'http://wallsdesk.com/wp-content/uploads/2017/01/Grizzly-Bear-full-HD.jpg', 'https://www.publicdomainpictures.net/pictures/240000/velka/grizzly-bear-portrait-1511961987XRY.jpg', 'https://wallup.net/wp-content/uploads/2016/01/30094-bears-nature-animals-Grizzly_bear-Grizzly_Bears.jpg', 'http://bearlegend.com/wp-content/uploads/2012/03/grizzlyBear_photofurl.jpeg', 'https://www.rwongphoto.com/images/xl/RW6844-2_web.jpg', 'http://4.bp.blogspot.com/-3WcCGQ1bzJI/UXcshw5QEwI/AAAAAAAAIns/gfJpUVE0FK8/s1600/Grizzly-Bear-7.jpg', 'https://thelatebloomerhiker.files.wordpress.com/2014/11/grizzly-bear-22224-1920x1200.jpg', 'https://www.josephfiler.com/images/xl/Brown-Grizzly-Bear-Alaska-1172-Edit.jpg', 'https://facts.net/wp-content/uploads/2020/10/grizzly-bear-861962_1280.jpg', 'https://static01.nyt.com/images/2017/06/23/science/23GRIZZLY/23GRIZZLY-superJumbo.jpg', 'https://npr.brightspotcdn.com/dims4/default/dfd2fc6/2147483647/strip/true/crop/442x326+0+0/resize/1760x1298!/quality/90/?url=http:%2F%2Fnpr-brightspot.s3.amazonaws.com%2F80%2F96%2F9bbed5ac44ae89051e7f6f30fc7b%2Fca-grizzly-research-network.jpg', 'https://wallpapers.com/images/file/grizzly-bear-pictures-2560-x-2048-o9hsfvsc9zfdzdu9.jpg', 'https://wallsdesk.com/wp-content/uploads/2017/01/Grizzly-Bear-Widescreen-.jpg', 'https://www.expeditionsalaska.com/wp-content/uploads/2017/04/16-brown-bear-photos-2377.jpg', 'https://eskipaper.com/images/grizzly-bear-4.jpg', 'http://wallsdesk.com/wp-content/uploads/2017/01/Grizzly-Bear-Desktop-Wallpaper-.jpg', 'http://alaskagirlatheart.com/wp-content/uploads/2012/05/grizzly-1.jpg', 'https://images.fineartamerica.com/images/artworkimages/mediumlarge/1/grizzly-bear-stephen-stookey.jpg', 'https://cdn.wallpapersafari.com/10/50/JMKjz9.jpg', 'http://4.bp.blogspot.com/-2_RuGHXGm0Y/UQW3vwH37JI/AAAAAAAAEzc/Mt1seFmFrog/s1600/Grizzly-Bear-.jpg', 'https://petapixel.com/assets/uploads/2023/03/grizzly-399-featured.jpg', 'https://wallup.net/wp-content/uploads/2017/11/22/393678-bears-sadness-Grizzly_bear-brown_bear-Grizzly_Bears.jpg', 'https://www.wallpics.net/wp-content/uploads/2020/12/Grizzly-Bear.jpg', 'http://images2.fanpop.com/image/photos/13100000/Grizzly-Bears-animals-13128534-1024-768.jpg', 'https://i.natgeofe.com/n/fd27a52c-bb78-41d7-8f48-fe08e991f0ed/05-grizzly-bear-yellowstone_3x4.jpg', 'http://wallsdesk.com/wp-content/uploads/2017/01/Grizzly-Bear-Download.jpg', 'https://i.cbc.ca/1.4174820.1506608673!/fileImage/httpImage/image.jpg_gen/derivatives/16x9_1180/grizzly-glares-at-viewer.jpg', 'https://www.washingtonpost.com/resizer/nemTppRnekzaYSC8ENaHIsJXOFg=/1484x0/arc-anglerfish-washpost-prod-washpost.s3.amazonaws.com/public/2C55XVXHAE5FTHUGC726432CYU.jpg', 'https://www.montanaoutdoor.com/wp-content/uploads/2022/12/grizzlybearwolf.jpg', 'https://a-z-animals.com/media/2022/12/shutterstock_590795567.jpeg', 'http://wallsdesk.com/wp-content/uploads/2017/01/Grizzly-Bear-HD.jpg', 'https://d.newsweek.com/en/full/1890935/grizzly-bear.jpg', 'http://3.bp.blogspot.com/-6VJBVEQKaFc/TgbRVFNtahI/AAAAAAAAAFY/BpIqDsfc9JY/s1600/102487-050-BD924456.jpg', 'https://4.bp.blogspot.com/-cgRJ-LwllUs/U2pSD-5_coI/AAAAAAAAKCk/ZJaSX0ucBcg/s1600/Grizzly+bear.jpg', 'http://wallsdesk.com/wp-content/uploads/2017/01/Grizzly-Bear-Images.jpg', 'http://environews.tv/wp/wp-content/uploads/2016/03/Yellowstone-Grizzly-Bear-4.jpg', 'https://media.spokesman.com/photos/2018/08/18/Grizzly_Bears_Montana.JPG.jpg', 'http://images2.fanpop.com/image/photos/13100000/Grizzly-Bears-animals-13128575-1024-768.jpg', 'http://wallsdesk.com/wp-content/uploads/2017/01/Grizzly-Bear-High-Quality-Wallpapers.jpg', 'http://i.huffpost.com/gen/1347316/images/o-GRIZZLY-BEAR-facebook.jpg', 'https://cdn.wallpapersafari.com/18/87/wEygWO.jpg', 'https://www.jessleephotos.com/images/xl/Alaska-Brown-Bear-.jpg', 'https://montanaoutdoor.com/wp-content/uploads/2018/02/Grizzly-King-FEAT.jpg', 'https://good-nature-blog-uploads.s3.amazonaws.com/uploads/2022/05/Grizzly-Bear.jpeg', 'https://townsquare.media/site/124/files/2019/03/gettyimages-1061398490-594x594.jpg?w=1200&h=0&zc=1&s=0&a=t&q=89', 'https://media.ktvb.com/assets/CCT/images/ced850cd-4952-47d5-8657-a69bcdc4ddeb/ced850cd-4952-47d5-8657-a69bcdc4ddeb_1140x641.jpg', 'https://wildlifesos.org/wp-content/uploads/2023/08/230722_Dachigam-jk-_Brpwn-bear_Sebastian_SOS01631-copy-1-scaled.jpg', 'https://people.com/thmb/ihZczvrdBKkUz1XA1wAHtmzcTyk=/1500x0/filters:no_upscale():max_bytes(150000):strip_icc():focal(749x0:751x2)/grizzly-bear-banff-tout-100223-ef86c64b15d64ec6a2417961bf80843b.jpg', 'https://media.salon.com/2014/03/Grizzly-Bear-1900x1200.jpg', 'https://www.goabc.org/wp-content/uploads/2015/12/species-grizzly.jpg', 'https://i.abcnewsfe.com/a/6e28b34e-12c4-4fc1-a160-eb7c5bc6b576/bear-yellowstone-ap-lv-230907_1694103380722_hpEmbed_21x16.jpg', 'http://wallpapercave.com/wp/ikP5YOo.jpg', 'https://www.victoriabuzz.com/wp-content/uploads/2019/05/P1011957.jpg', 'https://a-z-animals.com/media/2022/09/iStock-1418503420-1024x683.jpg', 'https://s.hdnux.com/photos/01/27/04/60/22826023/4/1200x0.jpg', 'https://a-z-animals.com/media/Grizzly-Bear-Ursus-Arctos-Horriblis.jpg', 'https://i.natgeofe.com/n/6f8dbce3-f729-4eaf-a912-74dbd519a453/grizzly-bear_thumb_4x3.JPG', 'https://animalcorner.org/wp-content/uploads/2015/02/grizzly-bear-1.jpg', 'https://cdn.wallpapersafari.com/7/23/ucA5r6.jpg', 'http://snowbrains.com/wp-content/uploads/2016/06/outdoorhub-yellowstone-grizzly-bear-kills-hiker-in-apparent-predatory-attack-2015-08-12_15-18-35.jpg', 'https://cff2.earth.com/uploads/2022/08/26045026/Grizzly-bear-scaled.jpg', 'http://www.famouscutouts.com/images/detailed/0/675-Bear.jpg', 'http://feelgrafix.com/data_images/out/9/824580-grizzly-bear-pictures.jpg', 'http://www1.cs.columbia.edu/~sedwards/photos/kyle200604/20060412-7108%20Grizzly%20bear.jpg', 'https://www.treehugger.com/thmb/0R7WSIoyIaWxhCkF4E08EN_l21E=/1500x0/filters:no_upscale():max_bytes(150000):strip_icc()/GettyImages-479801869-d0f38f560c1049918fe2fe036385f463.jpg', 'https://s3.wp.wsu.edu/uploads/sites/2797/2022/09/grizzly-bear-log.jpg', 'https://i.natgeofe.com/n/08dfbe07-1b57-4081-a60c-1038a160584e/09-grizzly-bear-yellowstone_3x4.jpg', 'https://www.mensjournal.com/.image/t_share/MjAwNjExODI4OTExMzE4Mzky/growling-grizzly-bear.jpg', 'https://i0.wp.com/conservationnw.org/wp-content/uploads/2017/10/Grizzly-bear-in-mountain-meadow.-Photo-copyright-Jason-Verschoor.-iStockphoto.com_-e1507583569416.jpg?fit=2002%2C1114&ssl=1', 'https://cdn.mos.cms.futurecdn.net/kzRV83JTEW5HRr62rH7Ca4-1200-80.jpg', 'https://i.natgeofe.com/n/b6f2bb1f-bb87-4a7b-9914-be22a04b3bc7/1bearcourt_4x3.jpg', 'https://wallup.net/wp-content/uploads/2016/01/96049-animals-bears-Grizzly_Bears.jpg', 'https://st.depositphotos.com/1746939/1285/i/950/depositphotos_12855514-stock-photo-grizzly-bear.jpg', 'https://1.bp.blogspot.com/-l-Y6zD_KF6o/UQN3jPgigAI/AAAAAAAAFcU/HOKJWQmNjo4/s1600/Grizzly+Bear-2013-0pic-05.jpg', 'http://wallpaper.imcphoto.net/animals/grizzly-bear/giant-grizzly-bear.jpg', 'https://www.wallpaperflare.com/static/495/810/324/animals-bears-grizzly-bear-wallpaper.jpg', 'http://media-cache-ec0.pinimg.com/736x/f5/70/78/f57078fcba2ae097645d094cc44496a5.jpg', 'https://wallpapercave.com/wp/75Gqlwt.jpg', 'http://grizzlybearwatching.com/wp-content/uploads/2015/12/Canada-copy.jpg', 'http://2.bp.blogspot.com/-NHxROh-qE2w/USOjxfWt_pI/AAAAAAAAFBA/8msDxZNdvZ0/s1600/Grizzly_Bear_Info_Images+03.jpg', 'https://d.newsweek.com/en/full/1997990/stock-image-grizzly-bear-yellowstone.jpg', 'https://cdni.rbth.com/rbthmedia/images/all/2016/10/07/grizzly_cp7ecp_b.jpg', 'https://ca-times.brightspotcdn.com/dims4/default/c378a29/2147483647/strip/true/crop/1503x2000+0+0/resize/1200x1597!/quality/75/?url=https:%2F%2Fcalifornia-times-brightspot.s3.amazonaws.com%2Fe2%2F23%2F8491c4824332974cd33fbea885df%2Fhunting-grizzlies-34286.jpg', 'https://www.lintelligencer.com/wp-content/uploads/2020/09/Alaska-Grizzly-kills-hunter-in-attack-at-national-park-Report.jpg', 'https://c402277.ssl.cf1.rackcdn.com/photos/6007/images/magazine_large/_MG_2815-edited_mini.jpg?1429283970', 'https://eskipaper.com/images/grizzly-bear-pictures-2.jpg', 'https://defenders.org/sites/default/files/styles/meta_image/public/2019-04/grizzly_bear_sow_jim_peaco_nps_header.jpg?itok=vTdBffpn', 'http://i.cbc.ca/1.3227503.1446859931!/cpImage/httpImage/image.jpg_gen/derivatives/16x9_1180/female-grizzly-bear.jpg', 'https://www.raincoast.org/wp-content/uploads/2023/08/Grizzly1_ConnorStefanison.jpg', 'https://sportingclassicsdaily.com/wp-content/uploads/2019/05/ddd.jpg', 'https://www.expeditionsalaska.com/wp-content/uploads/2016/09/12_sep9205.jpg', 'http://upload.wikimedia.org/wikipedia/commons/e/e3/Grizzly_Bear_cubs.jpg', 'https://www.wallpapergeeks.com/wp-content/uploads/2014/03/Grizzly-Bear-Denali-National-Park-Alaska.jpg', 'https://townsquare.media/site/15/files/2021/02/Montana-Grizzly-Encounter-Brutus-the-Bear.jpg?w=1200&h=0&zc=1&s=0&a=t&q=89', 'https://i.natgeofe.com/n/2abe83f4-7999-4ee0-8fa9-07330acdd30f/grizzly-bear_01.JPG', 'https://images4.alphacoders.com/102/thumb-1920-1028129.jpg', 'https://i.pinimg.com/originals/02/e9/a8/02e9a83289179fbacc902201bf0374bf.jpg', 'https://v.w-x.co/1654795237283_060922_CLIMATE_CHANGE_COULD_LEAD_TO_PIZZLY_BEARSprproj.jpg', 'https://www.naturephoto-cz.com/fullsize/others/grizzly-bear-215169.jpg', 'https://e3.365dm.com/16/07/1600x900/grizzly-bear-1_3639350.jpg?20160706025813', 'https://3.bp.blogspot.com/-DFDj2euc1MI/UHzV4UVwG_I/AAAAAAAAA-o/IEASyT5BT_A/s1600/Grizzly+Bear.jpg', 'https://i1.wp.com/blog.gaiagps.com/wp-content/uploads/2020/10/Mangelsen-3306-1.jpg?fit=2000%2C1333&ssl=1', 'https://npr.brightspotcdn.com/legacy/sites/wpr/files/201708/grizzly_bear-_sow_and_cubs__5728173840_.jpg', 'https://cms.qz.com/wp-content/uploads/2016/05/pizzlies_1.jpg?quality=75&strip=all&w=1600&h=900', 'https://yukon.ca/sites/yukon.ca/files/env/env-imgs/env-grizzly-bear.jpg', 'https://albertawilderness.ca/wp-content/uploads/2015/09/20040728_bh_grizzly_bighorn_cbruun.jpg', 'http://3.bp.blogspot.com/_VgXaDXiFvX4/TOLc3PVN7cI/AAAAAAAAA9U/ZTTZmy3MkYk/s1600/Grizzly_Bear+1.jpg', 'https://cdn-images-1.medium.com/max/2600/1*q3FTgihvKxEbXbl4-IJA0Q.jpeg', 'https://www.mensjournal.com/.image/t_share/MTk5MDA5NzMzNjMyMzM3Njgx/charging-grizzly-bear.jpg', 'https://d3d0lqu00lnqvz.cloudfront.net/media/media/0d6fe195-4729-4873-a17f-c136d2580df9.jpg', 'http://eskipaper.com/images/pictures-of-grizzly-bears-8.jpg', 'https://thumbs.dreamstime.com/z/grizzly-bear-16098250.jpg', 'http://grizzlybearwatching.com/wp-content/uploads/2013/03/July-5-yawn.jpg', 'https://wallup.net/wp-content/uploads/2016/01/211156-nature-animals-Grizzly_Bears-bears-baby_animals-field-grass-depth_of_field.jpg', 'https://a-z-animals.com/media/2022/03/shutterstock_1858824328.jpg', 'https://i.pinimg.com/originals/ab/d8/22/abd8220f9d67d70c894e64245d4a4ac9.jpg', 'https://mountainjournal.org/content/articles/ic_1676995482_780x_false.jpg', 'https://a-z-animals.com/media/2022/06/grizzly-bear.jpg', 'https://a-z-animals.com/media/2021/07/Grizzly-Bear-e1652377327826.jpg', 'http://thumbs.dreamstime.com/z/grizzly-bear-16098253.jpg', 'http://www.naturephoto-cz.com/fullsize/others/grizzly-bear-215150.jpg', 'http://4.bp.blogspot.com/-ocppOkj9hTc/UNMpyLQ-XCI/AAAAAAAAADU/SrOUp6pvTSA/s1600/grizzly+bear.jpg', 'https://www.naturephoto-cz.com/fullsize/others/grizzly-bear-215328.jpg', 'https://www.gannett-cdn.com/-mm-/7e482a443740f52337eba28dff4794963c9ca5ad/c=0-307-2996-2000/local/-/media/2015/11/18/GreatFalls/B9319757334Z.1_20151118154515_000_G0OCJNNDA.1-0.jpg?width=3200&height=1680&fit=crop', 'https://www.expeditionsalaska.com/wp-content/uploads/2016/09/12_mar6164.jpg', 'http://grizzlybearwatching.com/wp-content/uploads/2013/02/IMGP2691.jpg', 'http://3.bp.blogspot.com/-NuKxkdewP68/T5LpGACukII/AAAAAAAAFPw/9YPgZmXQzSs/s1600/grizzly-bear_grizzly-bear.jpg', 'https://defenders.org/sites/default/files/styles/meta_image/public/2019-05/grizzly-mother-cubs-jim-chagares-header.jpg?itok=3pBT-z3O', 'http://images2.fanpop.com/image/photos/13100000/Grizzly-Bears-animals-13128562-2000-1333.jpg', 'http://tailandfur.com/wp-content/uploads/2016/10/20-Fun-Facts-about-Grizzly-Bears-5.jpg', 'https://www.naturephoto-cz.com/fullsize/others/grizzly-bear-215324.jpg', 'https://4.bp.blogspot.com/-KliQsenmXqs/Un_rUjF4fII/AAAAAAAABUk/MAbB7TAbOrY/s1600/Grizzly_Bears.jpg', 'https://classroomclipart.com/image/static7/preview2/stock-photo-two-grizzly-bears-44312.jpg', 'https://petapixel.com/assets/uploads/2022/11/Boss_JLB9736Media-1536x1024.jpg', 'https://grizzlybearwatching.com/wp-content/uploads/2013/02/investigating.jpg', 'https://www.josephfiler.com/images/xl/Brown-Grizzly-Bear-Alaska-Cub-2020-Edit.jpg', 'https://thumbs.dreamstime.com/b/grizzly-bear-portrait-20960019.jpg']\n"
          ]
        }
      ]
    },
    {
      "cell_type": "code",
      "source": [
        "# urls = [result['contentUrl'] for result in results if 'contentUrl' in result]\n",
        "# urls[0]"
      ],
      "metadata": {
        "colab": {
          "base_uri": "https://localhost:8080/",
          "height": 35
        },
        "id": "cnei92fG5ywJ",
        "outputId": "c10cde55-ceff-46d5-bd37-aed1f9ae1e3b"
      },
      "execution_count": 44,
      "outputs": [
        {
          "output_type": "execute_result",
          "data": {
            "text/plain": [
              "'https://theglobalstardom.com/wp-content/uploads/2020/10/Salman-Khan-pic.jpg'"
            ],
            "application/vnd.google.colaboratory.intrinsic+json": {
              "type": "string"
            }
          },
          "metadata": {},
          "execution_count": 44
        }
      ]
    },
    {
      "cell_type": "code",
      "source": [
        "ims"
      ],
      "metadata": {
        "colab": {
          "base_uri": "https://localhost:8080/"
        },
        "id": "kl_oju2q2wA9",
        "outputId": "86199388-419d-4803-bd22-fe9ddaa52cf4"
      },
      "execution_count": 48,
      "outputs": [
        {
          "output_type": "execute_result",
          "data": {
            "text/plain": [
              "(#147) ['http://2.bp.blogspot.com/-NjMTuklENdE/UHzVv_8dIxI/AAAAAAAAA-U/tNBsQDn8kFI/s1600/Grizzly+Bear+Pic.jpg','https://d3d0lqu00lnqvz.cloudfront.net/media/media/897b2e5d-6d4c-40fa-bbe8-6829455747e2.jpg','http://3.bp.blogspot.com/-S1scRCkI3vY/UHzV2kucsPI/AAAAAAAAA-k/YQ5UzHEm9Ss/s1600/Grizzly+Bear+Wildlife.jpg','https://cdn.britannica.com/18/161718-050-2DB34DD6/Grizzly-bear.jpg','https://cdn.britannica.com/19/186719-050-887A6F2C/Grizzly-bear-Rocky-Mountains-Wyoming.jpg','https://www.goodfreephotos.com/albums/animals/mammals/grizzly-bear-in-the-wild.jpg','https://images.pexels.com/photos/162340/bear-bavarian-bear-wild-brown-bear-162340.jpeg?cs=srgb&dl=animal-bear-cute-162340.jpg&fm=jpg','https://upload.wikimedia.org/wikipedia/commons/thumb/a/a9/GrizzlyBearJeanBeaufort.jpg/1200px-GrizzlyBearJeanBeaufort.jpg','https://upload.wikimedia.org/wikipedia/commons/thumb/e/e3/Grizzly_Bear_(Ursus_arctos_ssp.).jpg/1280px-Grizzly_Bear_(Ursus_arctos_ssp.).jpg','https://canadiangeographic.ca/wp-content/uploads/2022/08/36211246-Grizzly_Bear_Siblings-scaled.jpg'...]"
            ]
          },
          "metadata": {},
          "execution_count": 48
        }
      ]
    },
    {
      "cell_type": "code",
      "source": [
        "len(ims)"
      ],
      "metadata": {
        "colab": {
          "base_uri": "https://localhost:8080/"
        },
        "id": "Q89HV7mH2_gu",
        "outputId": "7eef903d-1dcf-4d18-ad8a-456afd0c3d9d"
      },
      "execution_count": 49,
      "outputs": [
        {
          "output_type": "execute_result",
          "data": {
            "text/plain": [
              "147"
            ]
          },
          "metadata": {},
          "execution_count": 49
        }
      ]
    },
    {
      "cell_type": "code",
      "source": [
        "dest = 'images/grizzly.jpg'\n",
        "download_url(ims[0], dest)"
      ],
      "metadata": {
        "colab": {
          "base_uri": "https://localhost:8080/",
          "height": 55
        },
        "id": "ZVr0-x173EUT",
        "outputId": "fd825355-2222-446c-8333-435f08442e9e"
      },
      "execution_count": 50,
      "outputs": [
        {
          "output_type": "display_data",
          "data": {
            "text/plain": [
              "<IPython.core.display.HTML object>"
            ],
            "text/html": [
              "\n",
              "<style>\n",
              "    /* Turns off some styling */\n",
              "    progress {\n",
              "        /* gets rid of default border in Firefox and Opera. */\n",
              "        border: none;\n",
              "        /* Needs to be in here for Safari polyfill so background images work as expected. */\n",
              "        background-size: auto;\n",
              "    }\n",
              "    progress:not([value]), progress:not([value])::-webkit-progress-bar {\n",
              "        background: repeating-linear-gradient(45deg, #7e7e7e, #7e7e7e 10px, #5c5c5c 10px, #5c5c5c 20px);\n",
              "    }\n",
              "    .progress-bar-interrupted, .progress-bar-interrupted::-webkit-progress-bar {\n",
              "        background: #F44336;\n",
              "    }\n",
              "</style>\n"
            ]
          },
          "metadata": {}
        },
        {
          "output_type": "display_data",
          "data": {
            "text/plain": [
              "<IPython.core.display.HTML object>"
            ],
            "text/html": [
              "\n",
              "    <div>\n",
              "      <progress value='335872' class='' max='332689' style='width:300px; height:20px; vertical-align: middle;'></progress>\n",
              "      100.96% [335872/332689 00:00&lt;00:00]\n",
              "    </div>\n",
              "    "
            ]
          },
          "metadata": {}
        },
        {
          "output_type": "execute_result",
          "data": {
            "text/plain": [
              "Path('images/grizzly.jpg')"
            ]
          },
          "metadata": {},
          "execution_count": 50
        }
      ]
    },
    {
      "cell_type": "code",
      "source": [
        "im = Image.open(dest)\n",
        "im.to_thumb(128,128)"
      ],
      "metadata": {
        "colab": {
          "base_uri": "https://localhost:8080/",
          "height": 102
        },
        "id": "nWZ9YlBj3MWQ",
        "outputId": "69657770-6a6c-40e2-9cf3-4b3137c28ec8"
      },
      "execution_count": 55,
      "outputs": [
        {
          "output_type": "execute_result",
          "data": {
            "text/plain": [
              "<PIL.Image.Image image mode=RGB size=128x85>"
            ],
            "image/png": "[encoded data removed]",
            "image/jpeg": "[encoded data removed]"
          },
          "metadata": {},
          "execution_count": 55
        }
      ]
    },
    {
      "cell_type": "code",
      "source": [
        "!pip install pillow"
      ],
      "metadata": {
        "colab": {
          "base_uri": "https://localhost:8080/"
        },
        "id": "lK8P43PE6hYk",
        "outputId": "ebbacbc3-e48e-48ed-94c1-8cda2e1ef719"
      },
      "execution_count": 52,
      "outputs": [
        {
          "output_type": "stream",
          "name": "stdout",
          "text": [
            "Requirement already satisfied: pillow in /usr/local/lib/python3.10/dist-packages (10.4.0)\n"
          ]
        }
      ]
    },
    {
      "cell_type": "code",
      "source": [],
      "metadata": {
        "id": "ckXhrRYy6qMR"
      },
      "execution_count": null,
      "outputs": []
    }
  ]
}